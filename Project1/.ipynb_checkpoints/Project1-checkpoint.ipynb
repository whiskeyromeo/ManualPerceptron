{
 "cells": [
  {
   "cell_type": "markdown",
   "metadata": {
    "deletable": true,
    "editable": true
   },
   "source": [
    "Will Russell     V00788739\n",
    "- Implemented the ideas discussed in jupyter notebook/pdf and python code\n",
    "\n",
    "Taylor Nelson\n",
    "- Assisted in method design\n",
    "\n",
    "Ayush Rohatgi\n",
    "- Provided ideas for writeup"
   ]
  },
  {
   "cell_type": "markdown",
   "metadata": {
    "deletable": true,
    "editable": true
   },
   "source": [
    "#### Notes on Running the Notebook\n",
    "\n",
    "Here we have strived to make the application as interactive as possible without overloading the reader with code. Jupyter Notebook seemed to be perfect for this, although using it does come with some caveats that should be known to the reader.\n",
    "\n",
    "- This application was written using python 3.4, it may not work with older versions of python\n",
    "- It assumes that the appropriate modules have been installed either using the accompanying anaconda environment file(cmsc409_p1_env.yaml) or independently. To create an anaconda environment, check out the accompanying <a href=\"readme.md\">readme file</a>. \n",
    "- The data in data.txt and that used for the code will be randomly generated each time, including the associated data file, with the number of values generated tied to the sample_size put in below.\n",
    "- The code used for plotting the lines and establishing the coefficients is hardcoded can be found at the head of the project_code/data.py file\n",
    "- The majority of the code for the application resides in the project_code module/directory.\n",
    "    "
   ]
  },
  {
   "cell_type": "code",
   "execution_count": 6,
   "metadata": {
    "collapsed": true,
    "deletable": true,
    "editable": true
   },
   "outputs": [],
   "source": [
    "# Here you can modify the sample_size used to generate the\n",
    "# students and the attached plots\n",
    "sample_size = 2000"
   ]
  },
  {
   "cell_type": "markdown",
   "metadata": {
    "deletable": true,
    "editable": true
   },
   "source": [
    "### Randomly generate the data based around a standard deviation and mean"
   ]
  },
  {
   "cell_type": "code",
   "execution_count": 7,
   "metadata": {
    "collapsed": false,
    "deletable": true,
    "editable": true
   },
   "outputs": [
    {
     "name": "stdout",
     "output_type": "stream",
     "text": [
      "Warning: Cannot change to a different GUI toolkit: notebook. Using osx instead.\n",
      "Number of male students : 2000\n",
      "Number of female students : 2000\n",
      "-----------\n",
      "Sample Data\n",
      "-----------\n",
      "\n",
      "Male id  |   height  | weight \n",
      "\t0|\t6.01|\t162.19\n",
      "\t1|\t5.65|\t179.0\n",
      "\t2|\t5.78|\t170.9\n",
      "\t3|\t6.05|\t187.3\n",
      "\t4|\t5.75|\t156.47\n",
      "\t5|\t5.7|\t165.48\n",
      "\t6|\t5.74|\t150.65\n",
      "\t7|\t5.83|\t169.31\n",
      "\t8|\t6.0|\t176.11\n",
      "\t9|\t5.73|\t161.19\n",
      "\n",
      "Female id |  height  | weight \n",
      "\t0|\t5.19|\t116.87\n",
      "\t1|\t5.17|\t139.08\n",
      "\t2|\t4.92|\t130.3\n",
      "\t3|\t4.94|\t137.06\n",
      "\t4|\t5.31|\t137.14\n",
      "\t5|\t4.89|\t141.04\n",
      "\t6|\t5.15|\t131.25\n",
      "\t7|\t5.38|\t155.57\n",
      "\t8|\t5.02|\t131.1\n",
      "\t9|\t5.01|\t141.75\n"
     ]
    }
   ],
   "source": [
    "from project_code.data import *\n",
    "from project_code.graphlib import *\n",
    "from project_code.fileWorker import *\n",
    "from IPython.display import Latex\n",
    "%matplotlib notebook\n",
    "from IPython.display import set_matplotlib_formats\n",
    "set_matplotlib_formats('png', 'pdf')\n",
    "\n",
    "# Randomly generates the data\n",
    "male_students, female_students = generate_random_student_data(sample_size)\n",
    "# Writes the data to a file, data.txt\n",
    "write_data_to_file(male_students, female_students, \"./data.txt\")\n",
    "x1,x2 = 210,100\n",
    "y1,y2,y3 = 4.8,6.2,5.55\n",
    "write_coefficients_to_file(x1,x2,y3,y3,\"sep_line_a.txt\")\n",
    "write_coefficients_to_file(x1,x2,y1,y2,\"sep_line_b.txt\")\n",
    "# Plots the data using Matplotlib below\n",
    "plot_overall_data(male_students, female_students)\n"
   ]
  },
  {
   "cell_type": "markdown",
   "metadata": {
    "deletable": true,
    "editable": true
   },
   "source": [
    "### Plot the data along with separation lines for each scenario"
   ]
  },
  {
   "cell_type": "code",
   "execution_count": 8,
   "metadata": {
    "collapsed": false,
    "deletable": true,
    "editable": true
   },
   "outputs": [],
   "source": [
    "plot_height_data(male_students, female_students, 5.5)"
   ]
  },
  {
   "cell_type": "code",
   "execution_count": 9,
   "metadata": {
    "collapsed": false,
    "deletable": true,
    "editable": true
   },
   "outputs": [],
   "source": [
    "plot_height_weight_data(male_students, female_students,[210,100], [4.8,6.2])"
   ]
  },
  {
   "cell_type": "markdown",
   "metadata": {
    "deletable": true,
    "editable": true
   },
   "source": [
    "### Decision Function Equation\n",
    "\n",
    "The model that seems that it would fit best with the work based on what we have covered so far seems to be the same used in the calculation of Rosenblatt's Perceptron as it is a simple approach to developing a linear decision boundary.\n",
    "\n",
    "- Here if we follow the basic formula to find a line in Euclidean space with Cartesian coordinates we will have a function with the following formula\n",
    "\n",
    "$$ y=kx + y_0$$\n",
    "\n",
    "- Where k is representative of the derivative dx/dy and may be calculated as\n",
    "\n",
    "$$ k = \\frac{y_2 - y_1}{x_2 - x_1} $$ \n",
    "\n",
    "- The aforementioned function can be solved for the $ net $ output of the equation as follows\n",
    "\n",
    "$$ net = kx + y_0 - y $$\n",
    "\n",
    "- Based on McCulloch-Pitts, we can resolve a potential output via the transfer function. Our model is a reverse implementation as females should produce a 1 and males a 0, however males are on the north side of the line. \n",
    "\n",
    "$$ out = \\begin{cases} 0 & if\\ net \\ge 0\\\\ 1 & if\\ net < 0 \\end{cases}\n",
    "$$\n",
    "\n",
    "\n"
   ]
  },
  {
   "cell_type": "markdown",
   "metadata": {
    "deletable": true,
    "editable": true
   },
   "source": [
    "**For case a, where only height is considered:**\n",
    "\n",
    "- Based on the presence of only one feature, the line is a linear one with no change on the y-axis, leaving $k = 0$ for all instances along the line. The sole feature used to calculate the $net$ will therefore be a points position relative to $y_0$, or the y-intercept. Here we will estimate $y_0 = 5.5$\n",
    "\n",
    "$$ net = kx + y_0 - y = (0)x + 5.5 - y $$\n",
    "$$ net = 5.5 - y $$\n",
    "    \n",
    "**For case b, where both height and weight are considered:**\n",
    "\n",
    "- The slope for the decision boundary can be derived from two points which roughly split the groups. Here we'll set the first coordinates for\n",
    "$p_1 = (100,6.3)$\n",
    ", and the second point \n",
    "$p_2 = (220, 4.8)$.\n",
    "\n",
    "$$ k = \\frac{y_2 - y_1}{x_2 - x_1} = \\frac{4.8 - 6.3}{220 - 100} = - \\frac{1.5}{120} $$\n",
    "\n",
    "- If \n",
    "$y_0$\n",
    "is regarded as the y-intercept, and a valid estimate for\n",
    "$y_0 = 6.25$\n",
    ", this simplifies to the following:\n",
    "\n",
    "$$ y = kx + y_0  = - \\frac{1.5}{120}x + 6.25 $$\n",
    "\n",
    "- We can manipulate this into a more workable form by solving for the $net$ \n",
    "of any point to determine where it will reside in relation to the line\n",
    "\n",
    "$$\n",
    "    net = - \\frac{1.5}{120}x + 6.25 - y\n",
    "$$\n",
    "\n"
   ]
  },
  {
   "cell_type": "markdown",
   "metadata": {
    "deletable": true,
    "editable": true
   },
   "source": [
    "**3a.) Contrast the equation with the artificial counterpart of a biological neuron**\n",
    "\n",
    "The artificial counterpart as we have approached it thus far has characteristics defined as follows:\n",
    "\n",
    "- $net =\\sum_{i=1}^{n} w_ix_i$ in the case of a bias equal to 0\n",
    "- $net =\\sum_{i=1}^{n} w_ix_i + w_{n+1}$ where bias is equal to $w_{n+1}$\n",
    "\n",
    "$$out = \\begin{cases} 1 & if\\ net \\ge 0\\\\\n",
    "                  0 & if\\ net < 0\\end{cases}\n",
    "    $$ \n",
    "\n",
    "In our case, our lines follow a similar measure, though as mentioned earlier, the transfer function is reversed as women are classified as a 1 and men are classified as a 0.\n",
    "\n",
    "- $net =\\sum_{i=1}^{1} w_1x_1 + w_{1+1}$ where one feature is used\n",
    "- $net =\\sum_{i=1}^{2} w_1x_1 + w_2x_2 + w_{n+1}$ where two features exist.\n",
    "\n",
    "$$out = \\begin{cases} 0 & if\\ net \\ge 0\\\\\n",
    "                  1 & if\\ net < 0\\end{cases}\n",
    "    $$ \n",
    "\n",
    "Here, since we are only operating on a single line and are not feeding forward through the transfer function multiple times, our weights do not change and the slope intercept acts as the bias in both cases. \n",
    "\n",
    "- In the case of one feature, our weight may be estimated as -1:\n",
    "\n",
    "$$net = \\sum_{i=1}^{n} w_1x_1  + w_{n+1} $$\n",
    "$$net = \\sum_{i=1}^{n} (-1)y + y_0 $$\n",
    "\n",
    "- In the case of two features, our weights are the slope of the line and -1:\n",
    "\n",
    "$$net = \\sum_{i=1}^{n} w_1x_1 + w_2x_2 + w_{n+1} $$\n",
    "$$net = \\sum_{i=1}^{n} -\\frac{1.5}{120}x + (-1)y + y_0 $$\n",
    "\n",
    "If we were to follow more closely the nature of the artificial neuron, we would propagate the output value forward to the input of the next layer continuously until we reached a point where the accuracy might be deemed good enough to stop. Due to the overlapping nature of many of the values we would never reach perfect classfication using this type of model and will always have some element of error. Instead of a perfect classifier, we are limited to having a model that we might consider \"good enough\", that being a model with a sufficiently low error.\n"
   ]
  },
  {
   "cell_type": "markdown",
   "metadata": {
    "deletable": true,
    "editable": true
   },
   "source": [
    "### Report the error, accuracy, true positive rate and true negative rate, also false positive and false negative rate\n",
    "\n",
    "The measure of error is based on applying each point to the decision functions which are derived above, and determining the position of a point relative to the line. \n",
    "\n",
    "- If the point is above the line and belongs to a male student, the $net > 0$, resulting in an output of 0 which can be considered a true positive\n",
    "- If the point is above the line and belongs to a female student, the $net > 0$ resulting in a 0 where it should actually be a 1, giving a false positive.\n",
    "- If the point is below the line and belongs to a male student, $net < 0$, leading to a false negative\n",
    "- If the point is below the line and belongs to a female student, $net < 0$, leading to a true negative\n",
    "\n",
    "The accuracy of the classifier may be described as:\n",
    "\n",
    "$$ ACC(M) = \\frac{correctly\\ classified\\ patterns}{total\\ set\\ of\\ patterns} $$\n",
    "\n",
    "\n",
    "Here, with four classifications possible, we may reduce this to\n",
    "\n",
    "$$ ACC(M) = \\frac{true\\ positives + true\\ negatives}{true\\ positives + \n",
    "true\\ negatives + false\\ positives + false\\ negatives} $$\n",
    "\n",
    "\n",
    "In turn the error may be calculated as\n",
    "$$ 1 - ACC(M) $$\n"
   ]
  },
  {
   "cell_type": "markdown",
   "metadata": {
    "deletable": true,
    "editable": true
   },
   "source": [
    "#### a.) Based on height"
   ]
  },
  {
   "cell_type": "code",
   "execution_count": 6,
   "metadata": {
    "collapsed": false,
    "deletable": true,
    "editable": true
   },
   "outputs": [
    {
     "name": "stdout",
     "output_type": "stream",
     "text": [
      "male correct, true positive : 297\n",
      "male errors, false positive : 1684\n",
      "female errors, false negative : 318\n",
      "female correct, true negative : 1667\n",
      "Accuracy : 0.8449\n",
      "Error: 0.1551\n"
     ]
    }
   ],
   "source": [
    "slope = 0\n",
    "intercept = 5.51\n",
    "measures = get_measures(male_students, female_students)"
   ]
  },
  {
   "cell_type": "markdown",
   "metadata": {
    "deletable": true,
    "editable": true
   },
   "source": [
    "#### b.) Based on Height and Weight"
   ]
  },
  {
   "cell_type": "code",
   "execution_count": 7,
   "metadata": {
    "collapsed": false,
    "deletable": true,
    "editable": true
   },
   "outputs": [
    {
     "name": "stdout",
     "output_type": "stream",
     "text": [
      "male correct, true positive : 161\n",
      "male errors, false positive : 1839\n",
      "female errors, false negative : 166\n",
      "female correct, true negative : 1834\n",
      "Accuracy : 0.9182\n",
      "Error: 0.0818\n"
     ]
    }
   ],
   "source": [
    "x1,x2 = 210, 100\n",
    "y1,y2 = 4.8, 6.2\n",
    "slope = (y2 - y1)/(x2 - x1)\n",
    "intercept = y2 - (x2 * slope)\n",
    "measures = get_measures(male_students, female_students, slope, intercept)\n"
   ]
  },
  {
   "cell_type": "markdown",
   "metadata": {
    "deletable": true,
    "editable": true
   },
   "source": [
    "### Citations\n",
    "\n",
    "S. Russell, P. Norvig. *Artificial Intelligence: A Modern Approach*, Pearson, 2015"
   ]
  }
 ],
 "metadata": {
  "anaconda-cloud": {},
  "kernelspec": {
   "display_name": "Python 3",
   "language": "python",
   "name": "python3"
  },
  "language_info": {
   "codemirror_mode": {
    "name": "ipython",
    "version": 3
   },
   "file_extension": ".py",
   "mimetype": "text/x-python",
   "name": "python",
   "nbconvert_exporter": "python",
   "pygments_lexer": "ipython3",
   "version": "3.4.5"
  }
 },
 "nbformat": 4,
 "nbformat_minor": 2
}
