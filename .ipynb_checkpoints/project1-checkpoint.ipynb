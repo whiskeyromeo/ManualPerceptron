{
 "cells": [
  {
   "cell_type": "markdown",
   "metadata": {
    "deletable": true,
    "editable": true
   },
   "source": [
    "## Project 1\n",
    "<hr />"
   ]
  },
  {
   "cell_type": "markdown",
   "metadata": {
    "deletable": true,
    "editable": true
   },
   "source": [
    "Create in language of your preference (Matlab, C++, Java) two normally distributed classes for male and female students with following two features:\n",
    "\n",
    "* Feature 1: Height\n",
    "* Feature 2: Weight\n",
    "    "
   ]
  },
  {
   "cell_type": "code",
   "execution_count": 1,
   "metadata": {
    "collapsed": false,
    "deletable": true,
    "editable": true
   },
   "outputs": [
    {
     "name": "stdout",
     "output_type": "stream",
     "text": [
      "Ralph's weight: 5.8, height: 152.6\n",
      "Wendy's weight: 5.3, height: 124.3\n"
     ]
    }
   ],
   "source": [
    "class Student:\n",
    "    def __init__(self, height, weight, gender=0):\n",
    "        self.height = height\n",
    "        self.weight = weight\n",
    "        self.gender = gender\n",
    "\n",
    "ralph = Student(152.6,5.8, 0)\n",
    "wendy = Student(124.3,5.3, 1)\n",
    "\n",
    "print(\"Ralph's weight: {}, height: {}\".format(ralph.weight, ralph.height))\n",
    "print(\"Wendy's weight: {}, height: {}\".format(wendy.weight, wendy.height))\n"
   ]
  },
  {
   "cell_type": "code",
   "execution_count": 2,
   "metadata": {
    "collapsed": false,
    "deletable": true,
    "editable": true
   },
   "outputs": [],
   "source": [
    "#Write the file data.txt\n",
    "import random\n",
    "import numpy as np\n",
    "\n",
    "f = open(\"data.txt\", \"w+\")\n",
    "\n",
    "sample_size = 2000\n",
    "male_weights = np.random.normal(176.1, 20.84, sample_size)\n",
    "female_weights = np.random.normal(139.89, 14.88, sample_size)\n",
    "\n",
    "male_heights = np.random.normal(5.8, 0.3, sample_size)\n",
    "female_heights = np.random.normal(5.2, 0.3, sample_size)\n",
    "\n",
    "for i in range(0,sample_size):\n",
    "    f.write(\"{},{},{}\\n\".format(round(male_heights[i],2),round(male_weights[i],2), 0))\n",
    "    f.write(\"{},{},{}\\n\".format(round(female_heights[i],2), round(female_weights[i],2), 1))\n",
    "f.close()\n",
    "    "
   ]
  },
  {
   "cell_type": "code",
   "execution_count": 8,
   "metadata": {
    "collapsed": false,
    "deletable": true,
    "editable": true
   },
   "outputs": [
    {
     "name": "stdout",
     "output_type": "stream",
     "text": [
      "Number of male students : 60\n",
      "Number of female students : 60\n",
      "\n",
      "Male id  |   height  | weight \n",
      "\t0|\t5.1|\t176.16\n",
      "\t1|\t6.02|\t190.54\n",
      "\t2|\t5.57|\t172.91\n",
      "\t3|\t4.88|\t172.1\n",
      "\t4|\t5.56|\t197.01\n",
      "\t5|\t6.38|\t198.07\n",
      "\t6|\t5.64|\t165.14\n",
      "\t7|\t5.89|\t173.11\n",
      "\t8|\t5.5|\t157.99\n",
      "\t9|\t5.91|\t174.68\n",
      "\n",
      "Female id |  height  | weight \n",
      "\t0|\t5.18|\t137.85\n",
      "\t1|\t6.01|\t123.36\n",
      "\t2|\t4.97|\t134.96\n",
      "\t3|\t5.46|\t170.39\n",
      "\t4|\t5.19|\t159.21\n",
      "\t5|\t5.16|\t122.8\n",
      "\t6|\t5.02|\t140.4\n",
      "\t7|\t5.35|\t125.27\n",
      "\t8|\t5.49|\t147.26\n",
      "\t9|\t4.82|\t143.01\n"
     ]
    }
   ],
   "source": [
    "# Play around with the data to get a feel for it\n",
    "import random\n",
    "import numpy as np\n",
    "import matplotlib.pyplot as plot\n",
    "\n",
    "'''\n",
    "Generate two lists comprised of male and female students, n samples each\n",
    "'''\n",
    "sample_size = 60\n",
    "male_students = []\n",
    "female_students = []\n",
    "\n",
    "male_weights = np.random.normal(176.1, 20.84, sample_size)\n",
    "female_weights = np.random.normal(139.89, 14.88, sample_size)\n",
    "\n",
    "male_heights = np.random.normal(5.8, 0.3, sample_size)\n",
    "female_heights = np.random.normal(5.2, 0.3, sample_size)\n",
    "\n",
    "for i in range(0,sample_size):\n",
    "    male_students.append(Student(round(male_heights[i],2,),round(male_weights[i],2),0))\n",
    "    female_students.append(Student(round(female_heights[i],2), round(female_weights[i],2),1))\n",
    "\n",
    "print(\"Number of male students : {}\".format(len(male_students)))\n",
    "print(\"Number of female students : {}\".format(len(female_students)))\n",
    "\n",
    "print(\"\\nMale id  |   height  | weight \")\n",
    "for i in range(0,10):\n",
    "    print(\"\\t{}|\\t{}|\\t{}\".format(i, male_students[i].height, male_students[i].weight))\n",
    "\n",
    "print(\"\\nFemale id |  height  | weight \")\n",
    "for i in range(0,10):\n",
    "    print(\"\\t{}|\\t{}|\\t{}\".format(i, female_students[i].height, female_students[i].weight))\n",
    "    "
   ]
  },
  {
   "cell_type": "markdown",
   "metadata": {
    "deletable": true,
    "editable": true
   },
   "source": [
    "### Consider Scenarios\n",
    "   **a.)** Where only the first feature (height) is considered.\n",
    "   \n",
    "   **b.)** Where both features (height and weight) are considered"
   ]
  },
  {
   "cell_type": "markdown",
   "metadata": {
    "deletable": true,
    "editable": true
   },
   "source": [
    "### Plotted Data"
   ]
  },
  {
   "cell_type": "markdown",
   "metadata": {
    "deletable": true,
    "editable": true
   },
   "source": [
    "For the two scenarios, do the following\n",
    "   - Plot the data for male and female students\n",
    "       - <p style=\"color:red;\">Trying to figure out exactly how to do this for scenarios in which only one feature is considered...</p>\n",
    "   - Estimate and plot (manually) a separation line (linear separator or decision function) which separates female and male students\n",
    "       - <p style=\"color:red;\">For a single feature, the decision function should be </p>\n",
    "       \n",
    "   - Determine the equation of this decision function\n",
    "       * Contrast the equation with artificial counterpart of biological neuron. Can you determine what would the numerical values of the weights be? Discuss.\n",
    "           - <p style=\"color:red;\">If constructing a simple perceptron, the initial value of the weights should be a random number in the following range: 0 < w < 1. The weights will update themselves in each iteration, converging more towards what should be the ultimate regression line. A caveat to this is that if the values are not well separated enough, the training will simply continue ad infinitum</p>\n",
    "   - Report the error, accuracy, true positive rate and true negative rate, also false positive and false negative rate. \n",
    "\n",
    "\n",
    "- Consider only the first feature(height)\n",
    "- Consider both features (height ad weight)\n",
    "   \n",
    "   \n",
    "Write report with the code. Prepare to possibly present in class. "
   ]
  },
  {
   "cell_type": "markdown",
   "metadata": {},
   "source": [
    "### 2.) Plot the data"
   ]
  },
  {
   "cell_type": "code",
   "execution_count": 9,
   "metadata": {
    "collapsed": false,
    "deletable": true,
    "editable": true
   },
   "outputs": [
    {
     "data": {
      "image/png": "[encoded data removed]",
      "text/plain": [
       "<matplotlib.figure.Figure at 0x10e6727b8>"
      ]
     },
     "metadata": {},
     "output_type": "display_data"
    }
   ],
   "source": [
    "import matplotlib.pyplot as plt\n",
    "from IPython.display import Latex\n",
    "\n",
    "male_heights = [x.height for x in male_students]\n",
    "male_weights = [x.weight for x in male_students]\n",
    "female_heights = [y.height for y in female_students]\n",
    "female_weights = [y.weight for y in female_students]\n",
    "\n",
    "# Visually estimated values based on current sample of 60\n",
    "y2,y1 = 100, 210\n",
    "x2, x1 = 6.2, 4.8\n",
    "\n",
    "plt.figure(\"Student Sample\")\n",
    "\n",
    "# Plot estimated decision function\n",
    "plt.subplot(221)\n",
    "plt.title(\"Student Height/Weight\")\n",
    "plt.xlabel(\"Weight\")\n",
    "plt.ylabel(\"Height\")\n",
    "plt.plot(male_weights,male_heights,'bs', female_weights, female_heights, 'ro')\n",
    "plt.plot([y2, y1],[x2, x1], 'k-', lw=2)\n",
    "\n",
    "plt.subplot(222)\n",
    "plt.title(\"Student Heights\")\n",
    "plt.xlabel(\"Male Height\")\n",
    "plt.ylabel(\"Female Height\")\n",
    "plt.plot(male_heights, female_heights, 'co')\n",
    "\n",
    "plt.subplot(223)\n",
    "plt.title(\"Male Data\")\n",
    "plt.xlabel(\"Male Weight\")\n",
    "plt.ylabel(\"Male Height\")\n",
    "plt.plot(male_weights, male_heights, 'bs')\n",
    "\n",
    "plt.subplot(224)\n",
    "plt.title(\"Female Data\")\n",
    "plt.xlabel(\"Female Weight\")\n",
    "plt.ylabel(\"Female Height\")\n",
    "plt.plot(female_weights, female_heights, 'ro')\n",
    "\n",
    "plt.tight_layout()\n",
    "plt.show()\n",
    "\n"
   ]
  },
  {
   "cell_type": "markdown",
   "metadata": {
    "deletable": true,
    "editable": true
   },
   "source": [
    "### 3.) Decision Function Equation\n",
    "\n",
    "The model that seems that it would fit best with the work based on what we have covered so far seems to be that of Rosenblatt's Perceptron as it is a simple approach to developing a linear decision boundary.\n",
    "\n",
    "\n",
    "\n",
    "\n",
    "### $k=\\frac{y_2 - y_1}{x_2 - x_1}$ and $y=kx + y_0$\n",
    "\n",
    "\n"
   ]
  },
  {
   "cell_type": "markdown",
   "metadata": {
    "deletable": true,
    "editable": true
   },
   "source": [
    "\n",
    "Traditionally in statistics, the coeffecients of a linear regression model can be estimated as follows:\n",
    "- $ k = \\frac {\\sum ({x_i} - \\overline{x})({y_i} - \\overline{y})}{\\sum (x_i - \\overline{x})^2} $\n",
    "- $ y_0 = \\overline{y} - k * \\overline{x} $\n",
    "\n",
    "The decision function here should follow a similar track, with the weights being initialized as random values between 0 and 1. Here the representation would be as follows:\n",
    "\n",
    "For case a, where only height is considered:\n",
    "- $ y = w_1x_1 $\n",
    "\n",
    "For case b, where both height and weight are considered:\n",
    "- $ y = w_1x_1 + w_2x_2 $\n"
   ]
  },
  {
   "cell_type": "markdown",
   "metadata": {
    "deletable": true,
    "editable": true
   },
   "source": [
    "<b>3a.) Contrast the equation with the artificial counterpart of a biological neuron</b>\n",
    "\n",
    "The artificial counterpart as we have approached it thus far is defined as follows:\n",
    "* $net =\\sum_{i=1}^{n} w_ix_i$ in the case of a bias equal to 0\n",
    "* $net =\\sum_{i=1}^{n} w_ix_i + w_{n+1}$ where bias is equal to $w_{n+1}$\n",
    "\n",
    "\n",
    "<img src=\"ANN_4.png\" alt=\"http://chem-eng.utoronto.ca/~datamining/dmc/artificial_neural_network.htm\"/>\n",
    "\n",
    "\n",
    "<b>What is the transfer function here?</b>\n",
    "Transfer function should most likely be where if the threshold is met, the output is a male, if not, a female. Or vice versa.\n"
   ]
  },
  {
   "cell_type": "markdown",
   "metadata": {
    "deletable": true,
    "editable": true
   },
   "source": [
    "### 4.) Report the error, accuracy, true positive rate and true negative rate, also false positive and false negative rate\n"
   ]
  },
  {
   "cell_type": "code",
   "execution_count": null,
   "metadata": {
    "collapsed": true,
    "deletable": true,
    "editable": true
   },
   "outputs": [],
   "source": []
  }
 ],
 "metadata": {
  "kernelspec": {
   "display_name": "Python 3",
   "language": "python",
   "name": "python3"
  },
  "language_info": {
   "codemirror_mode": {
    "name": "ipython",
    "version": 3
   },
   "file_extension": ".py",
   "mimetype": "text/x-python",
   "name": "python",
   "nbconvert_exporter": "python",
   "pygments_lexer": "ipython3",
   "version": "3.6.0"
  }
 },
 "nbformat": 4,
 "nbformat_minor": 2
}
